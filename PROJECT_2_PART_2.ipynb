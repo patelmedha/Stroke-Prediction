{
  "nbformat": 4,
  "nbformat_minor": 0,
  "metadata": {
    "colab": {
      "provenance": [],
      "collapsed_sections": [
        "skPzzDxvJ2Kh",
        "cPmAEmYHL0CL",
        "WOL0SCQzMR42"
      ],
      "toc_visible": true,
      "authorship_tag": "ABX9TyNz4X6zQ/LAhTDyvfBTthoW",
      "include_colab_link": true
    },
    "kernelspec": {
      "name": "python3",
      "display_name": "Python 3"
    },
    "language_info": {
      "name": "python"
    }
  },
  "cells": [
    {
      "cell_type": "markdown",
      "metadata": {
        "id": "view-in-github",
        "colab_type": "text"
      },
      "source": [
        "<a href=\"https://colab.research.google.com/github/patelmedha/project2/blob/main/PROJECT_2_PART_2.ipynb\" target=\"_parent\"><img src=\"https://colab.research.google.com/assets/colab-badge.svg\" alt=\"Open In Colab\"/></a>"
      ]
    },
    {
      "cell_type": "markdown",
      "source": [
        "# **PROJECT 2**"
      ],
      "metadata": {
        "id": "IAde3fhbBf8x"
      }
    },
    {
      "cell_type": "code",
      "source": [
        "#Imports\n",
        "## Pandas\n",
        "import pandas as pd\n",
        "import warnings\n",
        "warnings.filterwarnings('ignore')\n",
        "\n",
        "## Numpy\n",
        "import numpy as np\n",
        "\n",
        "##Seaborn\n",
        "import seaborn as sns\n",
        "\n",
        "##Matplotlib\n",
        "import matplotlib.pyplot as plt"
      ],
      "metadata": {
        "id": "WOOqrbLXBmII"
      },
      "execution_count": 40,
      "outputs": []
    },
    {
      "cell_type": "markdown",
      "source": [
        "# CHOICE 1: Stroke Prediction\n",
        "**Context**\n",
        "  - According to the World Health Organization (WHO) stroke is the 2nd leading cause of death globally, responsible for approximately 11% of total deaths.\n",
        "  \n",
        "\n",
        "1. Source of data\n",
        "  - Source : https://www.kaggle.com/datasets/fedesoriano/stroke-prediction-dataset\n",
        "\n",
        "2. Brief description of data\n",
        " - - This dataset is used to predict whether a patient is likely to get stroke based on the input parameters like gender, age, various diseases, and smoking status. Each row in the data provides relavant information about the patient.\n",
        "\n",
        "3. What is the target?\n",
        "  - Target column is stroke. Predicting whether patient will suffer from a stroke or not.\n",
        "   \n",
        "\n",
        "4. What does one row represent? (A person? A business? An event? A product?)\n",
        "\n",
        "    - **Attribute Information**\n",
        "  1. id: unique identifier\n",
        "  2. gender: \"Male\", \"Female\" or \"Other\"\n",
        "  3. age: age of the patient\n",
        "  4. hypertension: 0 if the patient doesn't have hypertension, 1 if the patient has hypertension\n",
        "  5. heart_disease: 0 if the patient doesn't have any heart diseases, 1 if the patient has a heart disease\n",
        "  6. ever_married: \"No\" or \"Yes\"\n",
        "  7. work_type: \"children\", \"Govt_jov\", \"Never_worked\", \"Private\" or \"Self-employed\"\n",
        "  8. Residence_type: \"Rural\" or \"Urban\"\n",
        "  9. avg_glucose_level: average glucose level in blood\n",
        "  10. bmi: body mass index\n",
        "  11. smoking_status: \"formerly smoked\", \"never smoked\", \"smokes\" or \"Unknown\"*\n",
        "  12. stroke: 1 if the patient had a stroke or 0 if not\n",
        "  \n",
        "  *Note: \"Unknown\" in smoking_status means that the information is unavailable for this patient\n",
        "\n",
        "5. Is this a classification or regression problem?\n",
        "  - Classification problem\n",
        "\n",
        "6. How many features does the data have?\n",
        "  - 11 features\n",
        "\n",
        "7. How many rows are in the dataset?\n",
        "  - 5110 rows\n",
        "\n",
        "8. What, if any, challenges do you foresee in cleaning, exploring, or modeling this dataset?\n",
        "  - This data  has 201 missing values in the BMI column."
      ],
      "metadata": {
        "id": "GCVUxvOUBCM8"
      }
    },
    {
      "cell_type": "markdown",
      "source": [
        "## Load Data and Inspect Data"
      ],
      "metadata": {
        "id": "BuzTOotFByLW"
      }
    },
    {
      "cell_type": "code",
      "source": [
        "#Load Data\n",
        "from google.colab import drive\n",
        "drive.mount('/content/drive')\n",
        "\n",
        "stroke_fpath = '/content/drive/MyDrive/CodingDojo/PROJECT 2/healthcare-dataset-stroke-data.csv'\n",
        "df_stroke = pd.read_csv(stroke_fpath)\n",
        "df_stroke.head()"
      ],
      "metadata": {
        "colab": {
          "base_uri": "https://localhost:8080/",
          "height": 323
        },
        "id": "jO-r4aKIExC2",
        "outputId": "4da0ff25-edd7-40b5-a0f0-aa6a12f1cf12"
      },
      "execution_count": 41,
      "outputs": [
        {
          "output_type": "stream",
          "name": "stdout",
          "text": [
            "Drive already mounted at /content/drive; to attempt to forcibly remount, call drive.mount(\"/content/drive\", force_remount=True).\n"
          ]
        },
        {
          "output_type": "execute_result",
          "data": {
            "text/plain": [
              "      id  gender   age  hypertension  heart_disease ever_married  \\\n",
              "0   9046    Male  67.0             0              1          Yes   \n",
              "1  51676  Female  61.0             0              0          Yes   \n",
              "2  31112    Male  80.0             0              1          Yes   \n",
              "3  60182  Female  49.0             0              0          Yes   \n",
              "4   1665  Female  79.0             1              0          Yes   \n",
              "\n",
              "       work_type Residence_type  avg_glucose_level   bmi   smoking_status  \\\n",
              "0        Private          Urban             228.69  36.6  formerly smoked   \n",
              "1  Self-employed          Rural             202.21   NaN     never smoked   \n",
              "2        Private          Rural             105.92  32.5     never smoked   \n",
              "3        Private          Urban             171.23  34.4           smokes   \n",
              "4  Self-employed          Rural             174.12  24.0     never smoked   \n",
              "\n",
              "   stroke  \n",
              "0       1  \n",
              "1       1  \n",
              "2       1  \n",
              "3       1  \n",
              "4       1  "
            ],
            "text/html": [
              "\n",
              "  <div id=\"df-0ca02f0c-f93f-4152-9092-b276d407d892\">\n",
              "    <div class=\"colab-df-container\">\n",
              "      <div>\n",
              "<style scoped>\n",
              "    .dataframe tbody tr th:only-of-type {\n",
              "        vertical-align: middle;\n",
              "    }\n",
              "\n",
              "    .dataframe tbody tr th {\n",
              "        vertical-align: top;\n",
              "    }\n",
              "\n",
              "    .dataframe thead th {\n",
              "        text-align: right;\n",
              "    }\n",
              "</style>\n",
              "<table border=\"1\" class=\"dataframe\">\n",
              "  <thead>\n",
              "    <tr style=\"text-align: right;\">\n",
              "      <th></th>\n",
              "      <th>id</th>\n",
              "      <th>gender</th>\n",
              "      <th>age</th>\n",
              "      <th>hypertension</th>\n",
              "      <th>heart_disease</th>\n",
              "      <th>ever_married</th>\n",
              "      <th>work_type</th>\n",
              "      <th>Residence_type</th>\n",
              "      <th>avg_glucose_level</th>\n",
              "      <th>bmi</th>\n",
              "      <th>smoking_status</th>\n",
              "      <th>stroke</th>\n",
              "    </tr>\n",
              "  </thead>\n",
              "  <tbody>\n",
              "    <tr>\n",
              "      <th>0</th>\n",
              "      <td>9046</td>\n",
              "      <td>Male</td>\n",
              "      <td>67.0</td>\n",
              "      <td>0</td>\n",
              "      <td>1</td>\n",
              "      <td>Yes</td>\n",
              "      <td>Private</td>\n",
              "      <td>Urban</td>\n",
              "      <td>228.69</td>\n",
              "      <td>36.6</td>\n",
              "      <td>formerly smoked</td>\n",
              "      <td>1</td>\n",
              "    </tr>\n",
              "    <tr>\n",
              "      <th>1</th>\n",
              "      <td>51676</td>\n",
              "      <td>Female</td>\n",
              "      <td>61.0</td>\n",
              "      <td>0</td>\n",
              "      <td>0</td>\n",
              "      <td>Yes</td>\n",
              "      <td>Self-employed</td>\n",
              "      <td>Rural</td>\n",
              "      <td>202.21</td>\n",
              "      <td>NaN</td>\n",
              "      <td>never smoked</td>\n",
              "      <td>1</td>\n",
              "    </tr>\n",
              "    <tr>\n",
              "      <th>2</th>\n",
              "      <td>31112</td>\n",
              "      <td>Male</td>\n",
              "      <td>80.0</td>\n",
              "      <td>0</td>\n",
              "      <td>1</td>\n",
              "      <td>Yes</td>\n",
              "      <td>Private</td>\n",
              "      <td>Rural</td>\n",
              "      <td>105.92</td>\n",
              "      <td>32.5</td>\n",
              "      <td>never smoked</td>\n",
              "      <td>1</td>\n",
              "    </tr>\n",
              "    <tr>\n",
              "      <th>3</th>\n",
              "      <td>60182</td>\n",
              "      <td>Female</td>\n",
              "      <td>49.0</td>\n",
              "      <td>0</td>\n",
              "      <td>0</td>\n",
              "      <td>Yes</td>\n",
              "      <td>Private</td>\n",
              "      <td>Urban</td>\n",
              "      <td>171.23</td>\n",
              "      <td>34.4</td>\n",
              "      <td>smokes</td>\n",
              "      <td>1</td>\n",
              "    </tr>\n",
              "    <tr>\n",
              "      <th>4</th>\n",
              "      <td>1665</td>\n",
              "      <td>Female</td>\n",
              "      <td>79.0</td>\n",
              "      <td>1</td>\n",
              "      <td>0</td>\n",
              "      <td>Yes</td>\n",
              "      <td>Self-employed</td>\n",
              "      <td>Rural</td>\n",
              "      <td>174.12</td>\n",
              "      <td>24.0</td>\n",
              "      <td>never smoked</td>\n",
              "      <td>1</td>\n",
              "    </tr>\n",
              "  </tbody>\n",
              "</table>\n",
              "</div>\n",
              "      <button class=\"colab-df-convert\" onclick=\"convertToInteractive('df-0ca02f0c-f93f-4152-9092-b276d407d892')\"\n",
              "              title=\"Convert this dataframe to an interactive table.\"\n",
              "              style=\"display:none;\">\n",
              "        \n",
              "  <svg xmlns=\"http://www.w3.org/2000/svg\" height=\"24px\"viewBox=\"0 0 24 24\"\n",
              "       width=\"24px\">\n",
              "    <path d=\"M0 0h24v24H0V0z\" fill=\"none\"/>\n",
              "    <path d=\"M18.56 5.44l.94 2.06.94-2.06 2.06-.94-2.06-.94-.94-2.06-.94 2.06-2.06.94zm-11 1L8.5 8.5l.94-2.06 2.06-.94-2.06-.94L8.5 2.5l-.94 2.06-2.06.94zm10 10l.94 2.06.94-2.06 2.06-.94-2.06-.94-.94-2.06-.94 2.06-2.06.94z\"/><path d=\"M17.41 7.96l-1.37-1.37c-.4-.4-.92-.59-1.43-.59-.52 0-1.04.2-1.43.59L10.3 9.45l-7.72 7.72c-.78.78-.78 2.05 0 2.83L4 21.41c.39.39.9.59 1.41.59.51 0 1.02-.2 1.41-.59l7.78-7.78 2.81-2.81c.8-.78.8-2.07 0-2.86zM5.41 20L4 18.59l7.72-7.72 1.47 1.35L5.41 20z\"/>\n",
              "  </svg>\n",
              "      </button>\n",
              "      \n",
              "  <style>\n",
              "    .colab-df-container {\n",
              "      display:flex;\n",
              "      flex-wrap:wrap;\n",
              "      gap: 12px;\n",
              "    }\n",
              "\n",
              "    .colab-df-convert {\n",
              "      background-color: #E8F0FE;\n",
              "      border: none;\n",
              "      border-radius: 50%;\n",
              "      cursor: pointer;\n",
              "      display: none;\n",
              "      fill: #1967D2;\n",
              "      height: 32px;\n",
              "      padding: 0 0 0 0;\n",
              "      width: 32px;\n",
              "    }\n",
              "\n",
              "    .colab-df-convert:hover {\n",
              "      background-color: #E2EBFA;\n",
              "      box-shadow: 0px 1px 2px rgba(60, 64, 67, 0.3), 0px 1px 3px 1px rgba(60, 64, 67, 0.15);\n",
              "      fill: #174EA6;\n",
              "    }\n",
              "\n",
              "    [theme=dark] .colab-df-convert {\n",
              "      background-color: #3B4455;\n",
              "      fill: #D2E3FC;\n",
              "    }\n",
              "\n",
              "    [theme=dark] .colab-df-convert:hover {\n",
              "      background-color: #434B5C;\n",
              "      box-shadow: 0px 1px 3px 1px rgba(0, 0, 0, 0.15);\n",
              "      filter: drop-shadow(0px 1px 2px rgba(0, 0, 0, 0.3));\n",
              "      fill: #FFFFFF;\n",
              "    }\n",
              "  </style>\n",
              "\n",
              "      <script>\n",
              "        const buttonEl =\n",
              "          document.querySelector('#df-0ca02f0c-f93f-4152-9092-b276d407d892 button.colab-df-convert');\n",
              "        buttonEl.style.display =\n",
              "          google.colab.kernel.accessAllowed ? 'block' : 'none';\n",
              "\n",
              "        async function convertToInteractive(key) {\n",
              "          const element = document.querySelector('#df-0ca02f0c-f93f-4152-9092-b276d407d892');\n",
              "          const dataTable =\n",
              "            await google.colab.kernel.invokeFunction('convertToInteractive',\n",
              "                                                     [key], {});\n",
              "          if (!dataTable) return;\n",
              "\n",
              "          const docLinkHtml = 'Like what you see? Visit the ' +\n",
              "            '<a target=\"_blank\" href=https://colab.research.google.com/notebooks/data_table.ipynb>data table notebook</a>'\n",
              "            + ' to learn more about interactive tables.';\n",
              "          element.innerHTML = '';\n",
              "          dataTable['output_type'] = 'display_data';\n",
              "          await google.colab.output.renderOutput(dataTable, element);\n",
              "          const docLink = document.createElement('div');\n",
              "          docLink.innerHTML = docLinkHtml;\n",
              "          element.appendChild(docLink);\n",
              "        }\n",
              "      </script>\n",
              "    </div>\n",
              "  </div>\n",
              "  "
            ]
          },
          "metadata": {},
          "execution_count": 41
        }
      ]
    },
    {
      "cell_type": "code",
      "source": [
        "#Display number of rows and columns for the dataframe\n",
        "print(f'There are {df_stroke.shape[0]} rows, and {df_stroke.shape[1]} columns.')\n",
        "print(f'The rows represent {df_stroke.shape[0]} observations, and the columns represent {df_stroke.shape[1]-1} features and 1 target variable.')\n"
      ],
      "metadata": {
        "colab": {
          "base_uri": "https://localhost:8080/"
        },
        "id": "Zwcq_jT0FsxG",
        "outputId": "5dd2e853-101c-4539-f45a-2354ee64d51e"
      },
      "execution_count": 42,
      "outputs": [
        {
          "output_type": "stream",
          "name": "stdout",
          "text": [
            "There are 5110 rows, and 12 columns.\n",
            "The rows represent 5110 observations, and the columns represent 11 features and 1 target variable.\n"
          ]
        }
      ]
    },
    {
      "cell_type": "code",
      "source": [
        "df_stroke.info()"
      ],
      "metadata": {
        "colab": {
          "base_uri": "https://localhost:8080/"
        },
        "id": "na9ktb8HF4y4",
        "outputId": "f6df1b1c-5eff-4d21-b1db-edc117913696"
      },
      "execution_count": 43,
      "outputs": [
        {
          "output_type": "stream",
          "name": "stdout",
          "text": [
            "<class 'pandas.core.frame.DataFrame'>\n",
            "RangeIndex: 5110 entries, 0 to 5109\n",
            "Data columns (total 12 columns):\n",
            " #   Column             Non-Null Count  Dtype  \n",
            "---  ------             --------------  -----  \n",
            " 0   id                 5110 non-null   int64  \n",
            " 1   gender             5110 non-null   object \n",
            " 2   age                5110 non-null   float64\n",
            " 3   hypertension       5110 non-null   int64  \n",
            " 4   heart_disease      5110 non-null   int64  \n",
            " 5   ever_married       5110 non-null   object \n",
            " 6   work_type          5110 non-null   object \n",
            " 7   Residence_type     5110 non-null   object \n",
            " 8   avg_glucose_level  5110 non-null   float64\n",
            " 9   bmi                4909 non-null   float64\n",
            " 10  smoking_status     5110 non-null   object \n",
            " 11  stroke             5110 non-null   int64  \n",
            "dtypes: float64(3), int64(4), object(5)\n",
            "memory usage: 479.2+ KB\n"
          ]
        }
      ]
    },
    {
      "cell_type": "markdown",
      "source": [
        "###Duplicated Data"
      ],
      "metadata": {
        "id": "vF6s-PS0HZVn"
      }
    },
    {
      "cell_type": "code",
      "source": [
        "#Duplicate Rows\n",
        "df_stroke.duplicated().sum().sum()"
      ],
      "metadata": {
        "colab": {
          "base_uri": "https://localhost:8080/"
        },
        "id": "rFURaDSLGbe5",
        "outputId": "9587a308-2095-43f4-afe3-c3790b51adb0"
      },
      "execution_count": 44,
      "outputs": [
        {
          "output_type": "execute_result",
          "data": {
            "text/plain": [
              "0"
            ]
          },
          "metadata": {},
          "execution_count": 44
        }
      ]
    },
    {
      "cell_type": "markdown",
      "source": [
        "- There are no duplicate rows to drop."
      ],
      "metadata": {
        "id": "PFXlkajRHiDD"
      }
    },
    {
      "cell_type": "markdown",
      "source": [
        "### Missing Values"
      ],
      "metadata": {
        "id": "cyaXtD1LHlMn"
      }
    },
    {
      "cell_type": "code",
      "source": [
        "#Missing values\n",
        "df_stroke.isna().sum()"
      ],
      "metadata": {
        "colab": {
          "base_uri": "https://localhost:8080/"
        },
        "id": "M_nyrj36Gg1U",
        "outputId": "8f00163a-4541-4163-bb7a-88f0cad554a5"
      },
      "execution_count": 45,
      "outputs": [
        {
          "output_type": "execute_result",
          "data": {
            "text/plain": [
              "id                     0\n",
              "gender                 0\n",
              "age                    0\n",
              "hypertension           0\n",
              "heart_disease          0\n",
              "ever_married           0\n",
              "work_type              0\n",
              "Residence_type         0\n",
              "avg_glucose_level      0\n",
              "bmi                  201\n",
              "smoking_status         0\n",
              "stroke                 0\n",
              "dtype: int64"
            ]
          },
          "metadata": {},
          "execution_count": 45
        }
      ]
    },
    {
      "cell_type": "code",
      "source": [
        "#Missing Values in Percent\n",
        "df_stroke.isna().sum()/100"
      ],
      "metadata": {
        "colab": {
          "base_uri": "https://localhost:8080/"
        },
        "id": "_f9NIzVtFCNS",
        "outputId": "4745baf8-e138-4de9-f772-40753fffb9db"
      },
      "execution_count": 46,
      "outputs": [
        {
          "output_type": "execute_result",
          "data": {
            "text/plain": [
              "id                   0.00\n",
              "gender               0.00\n",
              "age                  0.00\n",
              "hypertension         0.00\n",
              "heart_disease        0.00\n",
              "ever_married         0.00\n",
              "work_type            0.00\n",
              "Residence_type       0.00\n",
              "avg_glucose_level    0.00\n",
              "bmi                  2.01\n",
              "smoking_status       0.00\n",
              "stroke               0.00\n",
              "dtype: float64"
            ]
          },
          "metadata": {},
          "execution_count": 46
        }
      ]
    },
    {
      "cell_type": "code",
      "source": [
        "#Visualizing Missing Values with Missingno\n",
        "import missingno as msno\n",
        "msno.matrix(df_stroke)"
      ],
      "metadata": {
        "colab": {
          "base_uri": "https://localhost:8080/",
          "height": 515
        },
        "id": "Q1-WR5KoJQXa",
        "outputId": "998db95c-84ff-4a96-e32c-dfb5c4a71144"
      },
      "execution_count": 47,
      "outputs": [
        {
          "output_type": "execute_result",
          "data": {
            "text/plain": [
              "<Axes: >"
            ]
          },
          "metadata": {},
          "execution_count": 47
        },
        {
          "output_type": "display_data",
          "data": {
            "text/plain": [
              "<Figure size 2500x1000 with 2 Axes>"
            ],
            "image/png": "[encoded data removed]"
          },
          "metadata": {}
        }
      ]
    },
    {
      "cell_type": "markdown",
      "source": [
        "- BMI - 2.01% missing values\n",
        "  - Dropping these rows can be justified since less than 5% data is missing."
      ],
      "metadata": {
        "id": "65Epi7dHGRGB"
      }
    },
    {
      "cell_type": "code",
      "source": [
        "df_stroke.dropna(subset=['bmi'],inplace=True)"
      ],
      "metadata": {
        "id": "32uWcsuNGIMm"
      },
      "execution_count": 48,
      "outputs": []
    },
    {
      "cell_type": "code",
      "source": [
        "#Missing Values in Percent\n",
        "df_stroke.isna().sum()/100"
      ],
      "metadata": {
        "colab": {
          "base_uri": "https://localhost:8080/"
        },
        "id": "aidV6L4sGNtF",
        "outputId": "7b14537d-3995-4b5d-df1c-23bd08b33409"
      },
      "execution_count": 49,
      "outputs": [
        {
          "output_type": "execute_result",
          "data": {
            "text/plain": [
              "id                   0.0\n",
              "gender               0.0\n",
              "age                  0.0\n",
              "hypertension         0.0\n",
              "heart_disease        0.0\n",
              "ever_married         0.0\n",
              "work_type            0.0\n",
              "Residence_type       0.0\n",
              "avg_glucose_level    0.0\n",
              "bmi                  0.0\n",
              "smoking_status       0.0\n",
              "stroke               0.0\n",
              "dtype: float64"
            ]
          },
          "metadata": {},
          "execution_count": 49
        }
      ]
    },
    {
      "cell_type": "markdown",
      "source": [
        "### Unique Values"
      ],
      "metadata": {
        "id": "E7LICHURHr2j"
      }
    },
    {
      "cell_type": "code",
      "source": [
        "df_stroke.nunique()"
      ],
      "metadata": {
        "colab": {
          "base_uri": "https://localhost:8080/"
        },
        "id": "hPMw9fkoIEyB",
        "outputId": "636b5842-38b4-4842-8f9b-803439b5c119"
      },
      "execution_count": 50,
      "outputs": [
        {
          "output_type": "execute_result",
          "data": {
            "text/plain": [
              "id                   4909\n",
              "gender                  3\n",
              "age                   104\n",
              "hypertension            2\n",
              "heart_disease           2\n",
              "ever_married            2\n",
              "work_type               5\n",
              "Residence_type          2\n",
              "avg_glucose_level    3852\n",
              "bmi                   418\n",
              "smoking_status          4\n",
              "stroke                  2\n",
              "dtype: int64"
            ]
          },
          "metadata": {},
          "execution_count": 50
        }
      ]
    },
    {
      "cell_type": "code",
      "source": [
        "df_stroke.nunique()/len(df_stroke) * 100\n"
      ],
      "metadata": {
        "colab": {
          "base_uri": "https://localhost:8080/"
        },
        "id": "OemTLGuHII7g",
        "outputId": "6a79694d-ff52-4e20-9cbb-da6ccb484e4c"
      },
      "execution_count": 51,
      "outputs": [
        {
          "output_type": "execute_result",
          "data": {
            "text/plain": [
              "id                   100.000000\n",
              "gender                 0.061112\n",
              "age                    2.118558\n",
              "hypertension           0.040741\n",
              "heart_disease          0.040741\n",
              "ever_married           0.040741\n",
              "work_type              0.101854\n",
              "Residence_type         0.040741\n",
              "avg_glucose_level     78.468120\n",
              "bmi                    8.514972\n",
              "smoking_status         0.081483\n",
              "stroke                 0.040741\n",
              "dtype: float64"
            ]
          },
          "metadata": {},
          "execution_count": 51
        }
      ]
    },
    {
      "cell_type": "markdown",
      "source": [
        "- id column has 100% unique values- this column can be dropped."
      ],
      "metadata": {
        "id": "_tDvwybVIpu2"
      }
    },
    {
      "cell_type": "code",
      "source": [
        "df_stroke.drop(columns= 'id', inplace=True)\n",
        "df_stroke.info()"
      ],
      "metadata": {
        "colab": {
          "base_uri": "https://localhost:8080/"
        },
        "id": "yiF7_lqwI1P7",
        "outputId": "e4b20ec0-7c4a-433b-bf64-53730eb05d20"
      },
      "execution_count": 52,
      "outputs": [
        {
          "output_type": "stream",
          "name": "stdout",
          "text": [
            "<class 'pandas.core.frame.DataFrame'>\n",
            "Int64Index: 4909 entries, 0 to 5109\n",
            "Data columns (total 11 columns):\n",
            " #   Column             Non-Null Count  Dtype  \n",
            "---  ------             --------------  -----  \n",
            " 0   gender             4909 non-null   object \n",
            " 1   age                4909 non-null   float64\n",
            " 2   hypertension       4909 non-null   int64  \n",
            " 3   heart_disease      4909 non-null   int64  \n",
            " 4   ever_married       4909 non-null   object \n",
            " 5   work_type          4909 non-null   object \n",
            " 6   Residence_type     4909 non-null   object \n",
            " 7   avg_glucose_level  4909 non-null   float64\n",
            " 8   bmi                4909 non-null   float64\n",
            " 9   smoking_status     4909 non-null   object \n",
            " 10  stroke             4909 non-null   int64  \n",
            "dtypes: float64(3), int64(3), object(5)\n",
            "memory usage: 460.2+ KB\n"
          ]
        }
      ]
    },
    {
      "cell_type": "markdown",
      "source": [
        "### Data Consistency"
      ],
      "metadata": {
        "id": "RFjFHH3rJt-u"
      }
    },
    {
      "cell_type": "markdown",
      "source": [
        "#### Categorical Columns"
      ],
      "metadata": {
        "id": "ek27_tjLJyl8"
      }
    },
    {
      "cell_type": "code",
      "source": [
        "#Save list for categorical column name.\n",
        "cat_col = df_stroke.select_dtypes('object').columns\n",
        "cat_col"
      ],
      "metadata": {
        "colab": {
          "base_uri": "https://localhost:8080/"
        },
        "id": "A7dldZ-XJ5QL",
        "outputId": "3e598273-b1d5-4785-ad80-0f066b94a311"
      },
      "execution_count": 55,
      "outputs": [
        {
          "output_type": "execute_result",
          "data": {
            "text/plain": [
              "Index(['gender', 'ever_married', 'work_type', 'Residence_type',\n",
              "       'smoking_status'],\n",
              "      dtype='object')"
            ]
          },
          "metadata": {},
          "execution_count": 55
        }
      ]
    },
    {
      "cell_type": "code",
      "source": [],
      "metadata": {
        "id": "Uo45_EBrNLEi"
      },
      "execution_count": null,
      "outputs": []
    },
    {
      "cell_type": "code",
      "source": [
        "#Check for nunique for categorical columns\n",
        "for col in cat_col:\n",
        "  print(f'Value Counts for {col}')\n",
        "  print(df_stroke[col].value_counts())\n",
        "  print('\\n')\n"
      ],
      "metadata": {
        "id": "g23ugY14KEYO"
      },
      "execution_count": null,
      "outputs": []
    },
    {
      "cell_type": "markdown",
      "source": [
        "#### Numeric Columns"
      ],
      "metadata": {
        "id": "skPzzDxvJ2Kh"
      }
    },
    {
      "cell_type": "code",
      "source": [
        "#Save list for numeric column name.\n",
        "num_col = df_stroke.select_dtypes(['int', 'float']).columns\n",
        "num_col"
      ],
      "metadata": {
        "colab": {
          "base_uri": "https://localhost:8080/"
        },
        "id": "yh-SHKdtJDlv",
        "outputId": "d8d8f98b-9faa-4ecc-eb55-7d6c5b233e1e"
      },
      "execution_count": 59,
      "outputs": [
        {
          "output_type": "execute_result",
          "data": {
            "text/plain": [
              "Index(['age', 'hypertension', 'heart_disease', 'avg_glucose_level', 'bmi',\n",
              "       'stroke'],\n",
              "      dtype='object')"
            ]
          },
          "metadata": {},
          "execution_count": 59
        }
      ]
    },
    {
      "cell_type": "code",
      "source": [
        "#Check for nunique for categorical columns\n",
        "for col in num_col:\n",
        "  print(f'Value Counts for {col}')\n",
        "  print(df_stroke[col].value_counts())\n",
        "  print('\\n')"
      ],
      "metadata": {
        "colab": {
          "base_uri": "https://localhost:8080/"
        },
        "id": "RJxq3oRWK_EY",
        "outputId": "7d03f422-2df4-4fce-d6c9-b42dce490fd0"
      },
      "execution_count": 60,
      "outputs": [
        {
          "output_type": "stream",
          "name": "stdout",
          "text": [
            "Value Counts for age\n",
            "78.00    93\n",
            "57.00    93\n",
            "52.00    85\n",
            "54.00    84\n",
            "55.00    83\n",
            "         ..\n",
            "1.40      3\n",
            "0.16      3\n",
            "0.40      2\n",
            "0.08      2\n",
            "0.48      2\n",
            "Name: age, Length: 104, dtype: int64\n",
            "\n",
            "\n",
            "Value Counts for hypertension\n",
            "0    4458\n",
            "1     451\n",
            "Name: hypertension, dtype: int64\n",
            "\n",
            "\n",
            "Value Counts for heart_disease\n",
            "0    4666\n",
            "1     243\n",
            "Name: heart_disease, dtype: int64\n",
            "\n",
            "\n",
            "Value Counts for avg_glucose_level\n",
            "93.88     6\n",
            "72.49     5\n",
            "83.16     5\n",
            "73.00     5\n",
            "91.68     5\n",
            "         ..\n",
            "72.06     1\n",
            "97.90     1\n",
            "230.59    1\n",
            "224.63    1\n",
            "85.28     1\n",
            "Name: avg_glucose_level, Length: 3852, dtype: int64\n",
            "\n",
            "\n",
            "Value Counts for bmi\n",
            "28.7    41\n",
            "28.4    38\n",
            "26.7    37\n",
            "27.6    37\n",
            "26.1    37\n",
            "        ..\n",
            "48.7     1\n",
            "49.2     1\n",
            "51.0     1\n",
            "49.4     1\n",
            "14.9     1\n",
            "Name: bmi, Length: 418, dtype: int64\n",
            "\n",
            "\n",
            "Value Counts for stroke\n",
            "0    4700\n",
            "1     209\n",
            "Name: stroke, dtype: int64\n",
            "\n",
            "\n"
          ]
        }
      ]
    },
    {
      "cell_type": "markdown",
      "source": [
        "#### Summary Statistic for Numeric Columns\n",
        "  - For any numeric columns obtain the summary statistics of each(min,max,mean)."
      ],
      "metadata": {
        "id": "cPmAEmYHL0CL"
      }
    },
    {
      "cell_type": "code",
      "source": [
        "#Descriptive Summary for numerical columns\n",
        "df_stroke.describe(include='number')"
      ],
      "metadata": {
        "id": "pJkFQIX7LlCS"
      },
      "execution_count": null,
      "outputs": []
    },
    {
      "cell_type": "markdown",
      "source": [
        "## Exploratory Data Analysis"
      ],
      "metadata": {
        "id": "c_EMbYqMLb3Q"
      }
    },
    {
      "cell_type": "markdown",
      "source": [
        "##### Categorical Columns\n",
        "Index(['gender', 'ever_married', 'work_type', 'Residence_type',\n",
        "       'smoking_status'"
      ],
      "metadata": {
        "id": "Y4usCSREMONE"
      }
    },
    {
      "cell_type": "markdown",
      "source": [
        "###### 'gender'"
      ],
      "metadata": {
        "id": "vwRcx9TwM1G3"
      }
    },
    {
      "cell_type": "markdown",
      "source": [
        "###### 'ever_married'"
      ],
      "metadata": {
        "id": "G9WuBx9-M0_P"
      }
    },
    {
      "cell_type": "markdown",
      "source": [
        "###### 'work_type'"
      ],
      "metadata": {
        "id": "ANLarHe3M016"
      }
    },
    {
      "cell_type": "markdown",
      "source": [
        "###### 'Residence_type'"
      ],
      "metadata": {
        "id": "9R_qVAd5M0tZ"
      }
    },
    {
      "cell_type": "markdown",
      "source": [
        "###### 'smoking_status'"
      ],
      "metadata": {
        "id": "eV7oQ4UGM0hs"
      }
    },
    {
      "cell_type": "markdown",
      "source": [
        "##### Numeric Columns"
      ],
      "metadata": {
        "id": "WOL0SCQzMR42"
      }
    },
    {
      "cell_type": "markdown",
      "source": [
        "###### 'age'"
      ],
      "metadata": {
        "id": "ZBPoipAzMZ0T"
      }
    },
    {
      "cell_type": "markdown",
      "source": [
        "###### 'hypertension'"
      ],
      "metadata": {
        "id": "ngnrG1VIMZnx"
      }
    },
    {
      "cell_type": "markdown",
      "source": [
        "###### 'heart_disease'"
      ],
      "metadata": {
        "id": "nSL-rxPkMZcu"
      }
    },
    {
      "cell_type": "markdown",
      "source": [
        "###### 'avg_glucose_level'"
      ],
      "metadata": {
        "id": "I0HVfJlkMZS7"
      }
    },
    {
      "cell_type": "markdown",
      "source": [
        "###### 'bmi'"
      ],
      "metadata": {
        "id": "JpceZG5aMZK6"
      }
    },
    {
      "cell_type": "markdown",
      "source": [
        "###### 'stroke'"
      ],
      "metadata": {
        "id": "h8biXMoJMq6t"
      }
    }
  ]
}